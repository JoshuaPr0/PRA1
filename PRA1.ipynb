import requests
import csv
import time
from bs4 import BeautifulSoup

url = "https://coinmarketcap.com/es/gainers-losers/"
try:
    page = requests.get(url, timeout=10) 
except requests.exceptions.Timeout:
    pass
page = requests.get(url)
soup = BeautifulSoup(page.content)

ganadores = soup.find_all("p", {"class": "sc-1eb5slv-0 gGIpIK coin-item-symbol"})
ganancia = soup.find_all("span", {"class": "sc-15yy2pl-0 kAXKAX"})

lista1 = list()
lista2 = list()

for i in ganadores:
    if len(lista1)<30:
        lista1.append(i.text)
    else:
        break
for j in ganancia:
    lista2.append(j.text)

listafinal = [["Token","Porcentaje"],[],[],[],[],[],[],[],[],[],[],[],[],[],[],
             [],[],[],[],[],[],[],[],[],[],[],[],[],[],[],[]]

for i in range(0,len(lista1)):
    listafinal[i+1].append(lista1[i])
for j in range(0,len(lista2)):
    listafinal[j+1].append(lista2[j])

with open("Ganadores.csv", "a") as arc:
    listafinal[0].append(time.ctime())
    writer = csv.writer(arc)
    writer.writerows(listafinal)
    arc.close()
