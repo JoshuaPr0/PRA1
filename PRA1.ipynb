import requests
import csv
from bs4 import BeautifulSoup

url = "https://coinmarketcap.com/es/gainers-losers/"
try:
    page = requests.get(url, timeout=10) 
except requests.exceptions.Timeout:
    pass
page = requests.get(url)
soup = BeautifulSoup(page.content)

ganadores = soup.find_all("p", {"class": "sc-1eb5slv-0 gGIpIK coin-item-symbol"})
ganancia = soup.find_all("span", {"class": "sc-15yy2pl-0 kAXKAX"})

lista1 = list()
lista2 = list()

for i in ganadores:
    lista1.append(i.text)
for j in ganancia:
    lista2.append(j.text)

diccio = dict(zip(lista1, lista2))

with open("Ganadores.csv", "w") as arc:
    writer = csv.writer(arc)
    for k, v in diccio.items():
        writer.writerow([k, v])
    arc.close()
